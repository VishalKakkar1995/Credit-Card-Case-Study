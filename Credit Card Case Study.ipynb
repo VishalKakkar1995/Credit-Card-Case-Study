{
 "cells": [
  {
   "cell_type": "code",
   "execution_count": 1,
   "metadata": {},
   "outputs": [],
   "source": [
    "import pandas as pd\n",
    "import numpy as np\n",
    "from datetime import datetime as dt\n",
    "from matplotlib import pyplot as plt\n",
    "import seaborn as sns"
   ]
  },
  {
   "cell_type": "code",
   "execution_count": 2,
   "metadata": {},
   "outputs": [],
   "source": [
    "Customer_Acq=pd.read_csv(\"C:/Users/Vishal/Desktop/Python/4. Pandas Case Study 2 - Credit Card Case Study/Customer Acqusition.csv\")\n",
    "Spend=pd.read_csv(\"C:/Users/Vishal/Desktop/Python/4. Pandas Case Study 2 - Credit Card Case Study/spend.csv\")\n",
    "Repayment=pd.read_csv(\"C:/Users/Vishal/Desktop/Python/4. Pandas Case Study 2 - Credit Card Case Study/Repayment.csv\")"
   ]
  },
  {
   "cell_type": "code",
   "execution_count": 3,
   "metadata": {},
   "outputs": [
    {
     "data": {
      "text/html": [
       "<div>\n",
       "<style scoped>\n",
       "    .dataframe tbody tr th:only-of-type {\n",
       "        vertical-align: middle;\n",
       "    }\n",
       "\n",
       "    .dataframe tbody tr th {\n",
       "        vertical-align: top;\n",
       "    }\n",
       "\n",
       "    .dataframe thead th {\n",
       "        text-align: right;\n",
       "    }\n",
       "</style>\n",
       "<table border=\"1\" class=\"dataframe\">\n",
       "  <thead>\n",
       "    <tr style=\"text-align: right;\">\n",
       "      <th></th>\n",
       "      <th>No</th>\n",
       "      <th>Customer</th>\n",
       "      <th>Age</th>\n",
       "      <th>City</th>\n",
       "      <th>Product</th>\n",
       "      <th>Limit</th>\n",
       "      <th>Company</th>\n",
       "      <th>Segment</th>\n",
       "    </tr>\n",
       "  </thead>\n",
       "  <tbody>\n",
       "    <tr>\n",
       "      <th>0</th>\n",
       "      <td>1</td>\n",
       "      <td>A1</td>\n",
       "      <td>76</td>\n",
       "      <td>BANGALORE</td>\n",
       "      <td>Gold</td>\n",
       "      <td>500000.0</td>\n",
       "      <td>C1</td>\n",
       "      <td>Self Employed</td>\n",
       "    </tr>\n",
       "    <tr>\n",
       "      <th>1</th>\n",
       "      <td>2</td>\n",
       "      <td>A2</td>\n",
       "      <td>71</td>\n",
       "      <td>CALCUTTA</td>\n",
       "      <td>Silver</td>\n",
       "      <td>100000.0</td>\n",
       "      <td>C2</td>\n",
       "      <td>Salaried_MNC</td>\n",
       "    </tr>\n",
       "  </tbody>\n",
       "</table>\n",
       "</div>"
      ],
      "text/plain": [
       "   No Customer  Age       City Product     Limit Company        Segment\n",
       "0   1       A1   76  BANGALORE    Gold  500000.0      C1  Self Employed\n",
       "1   2       A2   71   CALCUTTA  Silver  100000.0      C2   Salaried_MNC"
      ]
     },
     "execution_count": 3,
     "metadata": {},
     "output_type": "execute_result"
    }
   ],
   "source": [
    "Customer_Acq.head(2)"
   ]
  },
  {
   "cell_type": "code",
   "execution_count": 4,
   "metadata": {},
   "outputs": [],
   "source": [
    "Customer_Acq.drop(columns=['No'],inplace=True)"
   ]
  },
  {
   "cell_type": "code",
   "execution_count": 5,
   "metadata": {},
   "outputs": [
    {
     "data": {
      "text/html": [
       "<div>\n",
       "<style scoped>\n",
       "    .dataframe tbody tr th:only-of-type {\n",
       "        vertical-align: middle;\n",
       "    }\n",
       "\n",
       "    .dataframe tbody tr th {\n",
       "        vertical-align: top;\n",
       "    }\n",
       "\n",
       "    .dataframe thead th {\n",
       "        text-align: right;\n",
       "    }\n",
       "</style>\n",
       "<table border=\"1\" class=\"dataframe\">\n",
       "  <thead>\n",
       "    <tr style=\"text-align: right;\">\n",
       "      <th></th>\n",
       "      <th>Sl No:</th>\n",
       "      <th>Customer</th>\n",
       "      <th>Month</th>\n",
       "      <th>Type</th>\n",
       "      <th>Amount</th>\n",
       "    </tr>\n",
       "  </thead>\n",
       "  <tbody>\n",
       "    <tr>\n",
       "      <th>0</th>\n",
       "      <td>1</td>\n",
       "      <td>A1</td>\n",
       "      <td>12-Jan-04</td>\n",
       "      <td>JEWELLERY</td>\n",
       "      <td>485470.80</td>\n",
       "    </tr>\n",
       "    <tr>\n",
       "      <th>1</th>\n",
       "      <td>2</td>\n",
       "      <td>A1</td>\n",
       "      <td>3-Jan-04</td>\n",
       "      <td>PETRO</td>\n",
       "      <td>410556.13</td>\n",
       "    </tr>\n",
       "  </tbody>\n",
       "</table>\n",
       "</div>"
      ],
      "text/plain": [
       "   Sl No: Customer      Month       Type     Amount\n",
       "0       1       A1  12-Jan-04  JEWELLERY  485470.80\n",
       "1       2       A1   3-Jan-04      PETRO  410556.13"
      ]
     },
     "execution_count": 5,
     "metadata": {},
     "output_type": "execute_result"
    }
   ],
   "source": [
    "Spend.head(2)"
   ]
  },
  {
   "cell_type": "code",
   "execution_count": 6,
   "metadata": {},
   "outputs": [],
   "source": [
    "Spend.drop(columns=['Sl No:'],inplace=True)"
   ]
  },
  {
   "cell_type": "code",
   "execution_count": 7,
   "metadata": {},
   "outputs": [],
   "source": [
    "Spend.rename(columns={'Amount':'Spend_Amount'},inplace=True)"
   ]
  },
  {
   "cell_type": "code",
   "execution_count": 8,
   "metadata": {},
   "outputs": [
    {
     "data": {
      "text/html": [
       "<div>\n",
       "<style scoped>\n",
       "    .dataframe tbody tr th:only-of-type {\n",
       "        vertical-align: middle;\n",
       "    }\n",
       "\n",
       "    .dataframe tbody tr th {\n",
       "        vertical-align: top;\n",
       "    }\n",
       "\n",
       "    .dataframe thead th {\n",
       "        text-align: right;\n",
       "    }\n",
       "</style>\n",
       "<table border=\"1\" class=\"dataframe\">\n",
       "  <thead>\n",
       "    <tr style=\"text-align: right;\">\n",
       "      <th></th>\n",
       "      <th>SL No:</th>\n",
       "      <th>Customer</th>\n",
       "      <th>Month</th>\n",
       "      <th>Amount</th>\n",
       "      <th>Unnamed: 4</th>\n",
       "    </tr>\n",
       "  </thead>\n",
       "  <tbody>\n",
       "    <tr>\n",
       "      <th>0</th>\n",
       "      <td>NaN</td>\n",
       "      <td>A1</td>\n",
       "      <td>12-Jan-04</td>\n",
       "      <td>495414.75</td>\n",
       "      <td>NaN</td>\n",
       "    </tr>\n",
       "    <tr>\n",
       "      <th>1</th>\n",
       "      <td>2.0</td>\n",
       "      <td>A1</td>\n",
       "      <td>3-Jan-04</td>\n",
       "      <td>245899.02</td>\n",
       "      <td>NaN</td>\n",
       "    </tr>\n",
       "  </tbody>\n",
       "</table>\n",
       "</div>"
      ],
      "text/plain": [
       "   SL No: Customer      Month     Amount  Unnamed: 4\n",
       "0     NaN       A1  12-Jan-04  495414.75         NaN\n",
       "1     2.0       A1   3-Jan-04  245899.02         NaN"
      ]
     },
     "execution_count": 8,
     "metadata": {},
     "output_type": "execute_result"
    }
   ],
   "source": [
    "Repayment.head(2)"
   ]
  },
  {
   "cell_type": "code",
   "execution_count": 9,
   "metadata": {},
   "outputs": [],
   "source": [
    "Repayment.drop(columns=['SL No:','Unnamed: 4'],inplace=True)"
   ]
  },
  {
   "cell_type": "code",
   "execution_count": 10,
   "metadata": {},
   "outputs": [],
   "source": [
    "Repayment.rename(columns={'Amount':'Repayment_Amount'},inplace=True)"
   ]
  },
  {
   "cell_type": "code",
   "execution_count": 11,
   "metadata": {},
   "outputs": [
    {
     "data": {
      "text/html": [
       "<div>\n",
       "<style scoped>\n",
       "    .dataframe tbody tr th:only-of-type {\n",
       "        vertical-align: middle;\n",
       "    }\n",
       "\n",
       "    .dataframe tbody tr th {\n",
       "        vertical-align: top;\n",
       "    }\n",
       "\n",
       "    .dataframe thead th {\n",
       "        text-align: right;\n",
       "    }\n",
       "</style>\n",
       "<table border=\"1\" class=\"dataframe\">\n",
       "  <thead>\n",
       "    <tr style=\"text-align: right;\">\n",
       "      <th></th>\n",
       "      <th>Customer</th>\n",
       "      <th>Age</th>\n",
       "      <th>City</th>\n",
       "      <th>Product</th>\n",
       "      <th>Limit</th>\n",
       "      <th>Company</th>\n",
       "      <th>Segment</th>\n",
       "    </tr>\n",
       "  </thead>\n",
       "  <tbody>\n",
       "    <tr>\n",
       "      <th>0</th>\n",
       "      <td>A1</td>\n",
       "      <td>76</td>\n",
       "      <td>BANGALORE</td>\n",
       "      <td>Gold</td>\n",
       "      <td>500000.0</td>\n",
       "      <td>C1</td>\n",
       "      <td>Self Employed</td>\n",
       "    </tr>\n",
       "    <tr>\n",
       "      <th>1</th>\n",
       "      <td>A2</td>\n",
       "      <td>71</td>\n",
       "      <td>CALCUTTA</td>\n",
       "      <td>Silver</td>\n",
       "      <td>100000.0</td>\n",
       "      <td>C2</td>\n",
       "      <td>Salaried_MNC</td>\n",
       "    </tr>\n",
       "  </tbody>\n",
       "</table>\n",
       "</div>"
      ],
      "text/plain": [
       "  Customer  Age       City Product     Limit Company        Segment\n",
       "0       A1   76  BANGALORE    Gold  500000.0      C1  Self Employed\n",
       "1       A2   71   CALCUTTA  Silver  100000.0      C2   Salaried_MNC"
      ]
     },
     "execution_count": 11,
     "metadata": {},
     "output_type": "execute_result"
    }
   ],
   "source": [
    "Customer_Acq.head(2)"
   ]
  },
  {
   "cell_type": "code",
   "execution_count": 12,
   "metadata": {},
   "outputs": [
    {
     "name": "stdout",
     "output_type": "stream",
     "text": [
      "1.a After chnaging the age with mean the table looks like \n",
      " \n",
      "   Customer  Age       City   Product     Limit Company        Segment\n",
      "0       A1   76  BANGALORE      Gold  500000.0      C1  Self Employed\n",
      "1       A2   71   CALCUTTA    Silver  100000.0      C2   Salaried_MNC\n",
      "2       A3   34     COCHIN  Platimum   10000.0      C3   Salaried_Pvt\n",
      "3       A4   47     BOMBAY  Platimum   10001.0      C4           Govt\n",
      "4       A5   56  BANGALORE  Platimum   10002.0      C5  Normal Salary\n"
     ]
    }
   ],
   "source": [
    "Age=Customer_Acq.Age.mean()\n",
    "\n",
    "Age=round(Age)\n",
    "\n",
    "def fn_age(x):\n",
    "    for a in Customer_Acq.Age:\n",
    "        if(x<18):\n",
    "            x=Age\n",
    "            return(x)\n",
    "        else:\n",
    "            return(x)\n",
    "        \n",
    "Customer_Acq['Age']=Customer_Acq['Age'].apply(lambda x: fn_age(x))\n",
    "\n",
    "print(\"1.a After chnaging the age with mean the table looks like\",'\\n \\n',Customer_Acq.head())"
   ]
  },
  {
   "cell_type": "code",
   "execution_count": 13,
   "metadata": {},
   "outputs": [
    {
     "data": {
      "text/html": [
       "<div>\n",
       "<style scoped>\n",
       "    .dataframe tbody tr th:only-of-type {\n",
       "        vertical-align: middle;\n",
       "    }\n",
       "\n",
       "    .dataframe tbody tr th {\n",
       "        vertical-align: top;\n",
       "    }\n",
       "\n",
       "    .dataframe thead th {\n",
       "        text-align: right;\n",
       "    }\n",
       "</style>\n",
       "<table border=\"1\" class=\"dataframe\">\n",
       "  <thead>\n",
       "    <tr style=\"text-align: right;\">\n",
       "      <th></th>\n",
       "      <th>Customer</th>\n",
       "      <th>Month</th>\n",
       "      <th>Repayment_Amount</th>\n",
       "    </tr>\n",
       "  </thead>\n",
       "  <tbody>\n",
       "    <tr>\n",
       "      <th>0</th>\n",
       "      <td>A1</td>\n",
       "      <td>12-Jan-04</td>\n",
       "      <td>495414.75</td>\n",
       "    </tr>\n",
       "    <tr>\n",
       "      <th>1</th>\n",
       "      <td>A1</td>\n",
       "      <td>3-Jan-04</td>\n",
       "      <td>245899.02</td>\n",
       "    </tr>\n",
       "  </tbody>\n",
       "</table>\n",
       "</div>"
      ],
      "text/plain": [
       "  Customer      Month  Repayment_Amount\n",
       "0       A1  12-Jan-04         495414.75\n",
       "1       A1   3-Jan-04         245899.02"
      ]
     },
     "execution_count": 13,
     "metadata": {},
     "output_type": "execute_result"
    }
   ],
   "source": [
    "Repayment.head(2)"
   ]
  },
  {
   "cell_type": "code",
   "execution_count": 14,
   "metadata": {},
   "outputs": [
    {
     "data": {
      "text/html": [
       "<div>\n",
       "<style scoped>\n",
       "    .dataframe tbody tr th:only-of-type {\n",
       "        vertical-align: middle;\n",
       "    }\n",
       "\n",
       "    .dataframe tbody tr th {\n",
       "        vertical-align: top;\n",
       "    }\n",
       "\n",
       "    .dataframe thead th {\n",
       "        text-align: right;\n",
       "    }\n",
       "</style>\n",
       "<table border=\"1\" class=\"dataframe\">\n",
       "  <thead>\n",
       "    <tr style=\"text-align: right;\">\n",
       "      <th></th>\n",
       "      <th>Customer</th>\n",
       "      <th>Month</th>\n",
       "      <th>Type</th>\n",
       "      <th>Spend_Amount</th>\n",
       "    </tr>\n",
       "  </thead>\n",
       "  <tbody>\n",
       "    <tr>\n",
       "      <th>0</th>\n",
       "      <td>A1</td>\n",
       "      <td>12-Jan-04</td>\n",
       "      <td>JEWELLERY</td>\n",
       "      <td>485470.80</td>\n",
       "    </tr>\n",
       "    <tr>\n",
       "      <th>1</th>\n",
       "      <td>A1</td>\n",
       "      <td>3-Jan-04</td>\n",
       "      <td>PETRO</td>\n",
       "      <td>410556.13</td>\n",
       "    </tr>\n",
       "  </tbody>\n",
       "</table>\n",
       "</div>"
      ],
      "text/plain": [
       "  Customer      Month       Type  Spend_Amount\n",
       "0       A1  12-Jan-04  JEWELLERY     485470.80\n",
       "1       A1   3-Jan-04      PETRO     410556.13"
      ]
     },
     "execution_count": 14,
     "metadata": {},
     "output_type": "execute_result"
    }
   ],
   "source": [
    "Spend.head(2)"
   ]
  },
  {
   "cell_type": "code",
   "execution_count": 15,
   "metadata": {},
   "outputs": [
    {
     "data": {
      "text/html": [
       "<div>\n",
       "<style scoped>\n",
       "    .dataframe tbody tr th:only-of-type {\n",
       "        vertical-align: middle;\n",
       "    }\n",
       "\n",
       "    .dataframe tbody tr th {\n",
       "        vertical-align: top;\n",
       "    }\n",
       "\n",
       "    .dataframe thead th {\n",
       "        text-align: right;\n",
       "    }\n",
       "</style>\n",
       "<table border=\"1\" class=\"dataframe\">\n",
       "  <thead>\n",
       "    <tr style=\"text-align: right;\">\n",
       "      <th></th>\n",
       "      <th>Customer</th>\n",
       "      <th>Age</th>\n",
       "      <th>City</th>\n",
       "      <th>Product</th>\n",
       "      <th>Limit</th>\n",
       "      <th>Company</th>\n",
       "      <th>Segment</th>\n",
       "    </tr>\n",
       "  </thead>\n",
       "  <tbody>\n",
       "    <tr>\n",
       "      <th>0</th>\n",
       "      <td>A1</td>\n",
       "      <td>76</td>\n",
       "      <td>BANGALORE</td>\n",
       "      <td>Gold</td>\n",
       "      <td>500000.0</td>\n",
       "      <td>C1</td>\n",
       "      <td>Self Employed</td>\n",
       "    </tr>\n",
       "    <tr>\n",
       "      <th>1</th>\n",
       "      <td>A2</td>\n",
       "      <td>71</td>\n",
       "      <td>CALCUTTA</td>\n",
       "      <td>Silver</td>\n",
       "      <td>100000.0</td>\n",
       "      <td>C2</td>\n",
       "      <td>Salaried_MNC</td>\n",
       "    </tr>\n",
       "  </tbody>\n",
       "</table>\n",
       "</div>"
      ],
      "text/plain": [
       "  Customer  Age       City Product     Limit Company        Segment\n",
       "0       A1   76  BANGALORE    Gold  500000.0      C1  Self Employed\n",
       "1       A2   71   CALCUTTA  Silver  100000.0      C2   Salaried_MNC"
      ]
     },
     "execution_count": 15,
     "metadata": {},
     "output_type": "execute_result"
    }
   ],
   "source": [
    "Customer_Acq.head(2)"
   ]
  },
  {
   "cell_type": "code",
   "execution_count": 16,
   "metadata": {},
   "outputs": [],
   "source": [
    "Credit_card=pd.merge(Customer_Acq,Spend,how='left',on='Customer')"
   ]
  },
  {
   "cell_type": "code",
   "execution_count": 17,
   "metadata": {},
   "outputs": [
    {
     "name": "stderr",
     "output_type": "stream",
     "text": [
      "C:\\ProgramData\\Anaconda3\\lib\\site-packages\\pandas\\core\\indexing.py:190: SettingWithCopyWarning: \n",
      "A value is trying to be set on a copy of a slice from a DataFrame\n",
      "\n",
      "See the caveats in the documentation: http://pandas.pydata.org/pandas-docs/stable/indexing.html#indexing-view-versus-copy\n",
      "  self._setitem_with_indexer(indexer, value)\n"
     ]
    }
   ],
   "source": [
    "count=0\n",
    "\n",
    "for x in range(0,1500):\n",
    "    if(Credit_card.Limit.iloc[x]<Credit_card.Spend_Amount.iloc[x]):\n",
    "        Credit_card.Spend_Amount.iloc[x]=Credit_card.Limit.iloc[x]*0.5\n",
    "        count+=1"
   ]
  },
  {
   "cell_type": "code",
   "execution_count": 18,
   "metadata": {},
   "outputs": [
    {
     "name": "stdout",
     "output_type": "stream",
     "text": [
      "1.b The new table after adjucting the spent amount wrt the credit card limit is\n"
     ]
    },
    {
     "data": {
      "text/html": [
       "<div>\n",
       "<style scoped>\n",
       "    .dataframe tbody tr th:only-of-type {\n",
       "        vertical-align: middle;\n",
       "    }\n",
       "\n",
       "    .dataframe tbody tr th {\n",
       "        vertical-align: top;\n",
       "    }\n",
       "\n",
       "    .dataframe thead th {\n",
       "        text-align: right;\n",
       "    }\n",
       "</style>\n",
       "<table border=\"1\" class=\"dataframe\">\n",
       "  <thead>\n",
       "    <tr style=\"text-align: right;\">\n",
       "      <th></th>\n",
       "      <th>Customer</th>\n",
       "      <th>Age</th>\n",
       "      <th>City</th>\n",
       "      <th>Product</th>\n",
       "      <th>Limit</th>\n",
       "      <th>Company</th>\n",
       "      <th>Segment</th>\n",
       "      <th>Month</th>\n",
       "      <th>Type</th>\n",
       "      <th>Spend_Amount</th>\n",
       "    </tr>\n",
       "  </thead>\n",
       "  <tbody>\n",
       "    <tr>\n",
       "      <th>0</th>\n",
       "      <td>A1</td>\n",
       "      <td>76</td>\n",
       "      <td>BANGALORE</td>\n",
       "      <td>Gold</td>\n",
       "      <td>500000.0</td>\n",
       "      <td>C1</td>\n",
       "      <td>Self Employed</td>\n",
       "      <td>12-Jan-04</td>\n",
       "      <td>JEWELLERY</td>\n",
       "      <td>485470.80</td>\n",
       "    </tr>\n",
       "    <tr>\n",
       "      <th>1</th>\n",
       "      <td>A1</td>\n",
       "      <td>76</td>\n",
       "      <td>BANGALORE</td>\n",
       "      <td>Gold</td>\n",
       "      <td>500000.0</td>\n",
       "      <td>C1</td>\n",
       "      <td>Self Employed</td>\n",
       "      <td>3-Jan-04</td>\n",
       "      <td>PETRO</td>\n",
       "      <td>410556.13</td>\n",
       "    </tr>\n",
       "    <tr>\n",
       "      <th>2</th>\n",
       "      <td>A1</td>\n",
       "      <td>76</td>\n",
       "      <td>BANGALORE</td>\n",
       "      <td>Gold</td>\n",
       "      <td>500000.0</td>\n",
       "      <td>C1</td>\n",
       "      <td>Self Employed</td>\n",
       "      <td>15-Jan-04</td>\n",
       "      <td>CLOTHES</td>\n",
       "      <td>23740.46</td>\n",
       "    </tr>\n",
       "    <tr>\n",
       "      <th>3</th>\n",
       "      <td>A1</td>\n",
       "      <td>76</td>\n",
       "      <td>BANGALORE</td>\n",
       "      <td>Gold</td>\n",
       "      <td>500000.0</td>\n",
       "      <td>C1</td>\n",
       "      <td>Self Employed</td>\n",
       "      <td>25-Jan-04</td>\n",
       "      <td>FOOD</td>\n",
       "      <td>484342.47</td>\n",
       "    </tr>\n",
       "    <tr>\n",
       "      <th>4</th>\n",
       "      <td>A1</td>\n",
       "      <td>76</td>\n",
       "      <td>BANGALORE</td>\n",
       "      <td>Gold</td>\n",
       "      <td>500000.0</td>\n",
       "      <td>C1</td>\n",
       "      <td>Self Employed</td>\n",
       "      <td>17-Jan-05</td>\n",
       "      <td>CAMERA</td>\n",
       "      <td>369694.07</td>\n",
       "    </tr>\n",
       "  </tbody>\n",
       "</table>\n",
       "</div>"
      ],
      "text/plain": [
       "  Customer  Age       City Product     Limit Company        Segment  \\\n",
       "0       A1   76  BANGALORE    Gold  500000.0      C1  Self Employed   \n",
       "1       A1   76  BANGALORE    Gold  500000.0      C1  Self Employed   \n",
       "2       A1   76  BANGALORE    Gold  500000.0      C1  Self Employed   \n",
       "3       A1   76  BANGALORE    Gold  500000.0      C1  Self Employed   \n",
       "4       A1   76  BANGALORE    Gold  500000.0      C1  Self Employed   \n",
       "\n",
       "       Month       Type  Spend_Amount  \n",
       "0  12-Jan-04  JEWELLERY     485470.80  \n",
       "1   3-Jan-04      PETRO     410556.13  \n",
       "2  15-Jan-04    CLOTHES      23740.46  \n",
       "3  25-Jan-04       FOOD     484342.47  \n",
       "4  17-Jan-05     CAMERA     369694.07  "
      ]
     },
     "execution_count": 18,
     "metadata": {},
     "output_type": "execute_result"
    }
   ],
   "source": [
    "print('1.b The new table after adjucting the spent amount wrt the credit card limit is')\n",
    "\n",
    "Credit_card.head()"
   ]
  },
  {
   "cell_type": "code",
   "execution_count": 19,
   "metadata": {},
   "outputs": [],
   "source": [
    "Credit_card=pd.merge(Credit_card,Repayment,how='inner',on=('Customer','Month'))"
   ]
  },
  {
   "cell_type": "code",
   "execution_count": 20,
   "metadata": {},
   "outputs": [],
   "source": [
    "count=0\n",
    "\n",
    "for x in range(0,863):\n",
    "    if(Credit_card.Limit.iloc[x]<Credit_card.Repayment_Amount.iloc[x]):\n",
    "        Credit_card.Repayment_Amount.iloc[x]=Credit_card.Limit.iloc[x]\n",
    "        count+=1"
   ]
  },
  {
   "cell_type": "code",
   "execution_count": 21,
   "metadata": {},
   "outputs": [
    {
     "name": "stdout",
     "output_type": "stream",
     "text": [
      "1.c The new table after adjucting the repayment amount wrt the credit card limit is \n"
     ]
    },
    {
     "data": {
      "text/html": [
       "<div>\n",
       "<style scoped>\n",
       "    .dataframe tbody tr th:only-of-type {\n",
       "        vertical-align: middle;\n",
       "    }\n",
       "\n",
       "    .dataframe tbody tr th {\n",
       "        vertical-align: top;\n",
       "    }\n",
       "\n",
       "    .dataframe thead th {\n",
       "        text-align: right;\n",
       "    }\n",
       "</style>\n",
       "<table border=\"1\" class=\"dataframe\">\n",
       "  <thead>\n",
       "    <tr style=\"text-align: right;\">\n",
       "      <th></th>\n",
       "      <th>Customer</th>\n",
       "      <th>Age</th>\n",
       "      <th>City</th>\n",
       "      <th>Product</th>\n",
       "      <th>Limit</th>\n",
       "      <th>Company</th>\n",
       "      <th>Segment</th>\n",
       "      <th>Month</th>\n",
       "      <th>Type</th>\n",
       "      <th>Spend_Amount</th>\n",
       "      <th>Repayment_Amount</th>\n",
       "    </tr>\n",
       "  </thead>\n",
       "  <tbody>\n",
       "    <tr>\n",
       "      <th>0</th>\n",
       "      <td>A1</td>\n",
       "      <td>76</td>\n",
       "      <td>BANGALORE</td>\n",
       "      <td>Gold</td>\n",
       "      <td>500000.0</td>\n",
       "      <td>C1</td>\n",
       "      <td>Self Employed</td>\n",
       "      <td>12-Jan-04</td>\n",
       "      <td>JEWELLERY</td>\n",
       "      <td>485470.80</td>\n",
       "      <td>495414.75</td>\n",
       "    </tr>\n",
       "    <tr>\n",
       "      <th>1</th>\n",
       "      <td>A1</td>\n",
       "      <td>76</td>\n",
       "      <td>BANGALORE</td>\n",
       "      <td>Gold</td>\n",
       "      <td>500000.0</td>\n",
       "      <td>C1</td>\n",
       "      <td>Self Employed</td>\n",
       "      <td>12-Jan-04</td>\n",
       "      <td>JEWELLERY</td>\n",
       "      <td>485470.80</td>\n",
       "      <td>350446.82</td>\n",
       "    </tr>\n",
       "    <tr>\n",
       "      <th>2</th>\n",
       "      <td>A1</td>\n",
       "      <td>76</td>\n",
       "      <td>BANGALORE</td>\n",
       "      <td>Gold</td>\n",
       "      <td>500000.0</td>\n",
       "      <td>C1</td>\n",
       "      <td>Self Employed</td>\n",
       "      <td>12-Jan-04</td>\n",
       "      <td>TRAIN TICKET</td>\n",
       "      <td>440563.22</td>\n",
       "      <td>495414.75</td>\n",
       "    </tr>\n",
       "    <tr>\n",
       "      <th>3</th>\n",
       "      <td>A1</td>\n",
       "      <td>76</td>\n",
       "      <td>BANGALORE</td>\n",
       "      <td>Gold</td>\n",
       "      <td>500000.0</td>\n",
       "      <td>C1</td>\n",
       "      <td>Self Employed</td>\n",
       "      <td>12-Jan-04</td>\n",
       "      <td>TRAIN TICKET</td>\n",
       "      <td>440563.22</td>\n",
       "      <td>350446.82</td>\n",
       "    </tr>\n",
       "    <tr>\n",
       "      <th>4</th>\n",
       "      <td>A1</td>\n",
       "      <td>76</td>\n",
       "      <td>BANGALORE</td>\n",
       "      <td>Gold</td>\n",
       "      <td>500000.0</td>\n",
       "      <td>C1</td>\n",
       "      <td>Self Employed</td>\n",
       "      <td>3-Jan-04</td>\n",
       "      <td>PETRO</td>\n",
       "      <td>410556.13</td>\n",
       "      <td>245899.02</td>\n",
       "    </tr>\n",
       "  </tbody>\n",
       "</table>\n",
       "</div>"
      ],
      "text/plain": [
       "  Customer  Age       City Product     Limit Company        Segment  \\\n",
       "0       A1   76  BANGALORE    Gold  500000.0      C1  Self Employed   \n",
       "1       A1   76  BANGALORE    Gold  500000.0      C1  Self Employed   \n",
       "2       A1   76  BANGALORE    Gold  500000.0      C1  Self Employed   \n",
       "3       A1   76  BANGALORE    Gold  500000.0      C1  Self Employed   \n",
       "4       A1   76  BANGALORE    Gold  500000.0      C1  Self Employed   \n",
       "\n",
       "       Month          Type  Spend_Amount  Repayment_Amount  \n",
       "0  12-Jan-04     JEWELLERY     485470.80         495414.75  \n",
       "1  12-Jan-04     JEWELLERY     485470.80         350446.82  \n",
       "2  12-Jan-04  TRAIN TICKET     440563.22         495414.75  \n",
       "3  12-Jan-04  TRAIN TICKET     440563.22         350446.82  \n",
       "4   3-Jan-04         PETRO     410556.13         245899.02  "
      ]
     },
     "execution_count": 21,
     "metadata": {},
     "output_type": "execute_result"
    }
   ],
   "source": [
    "print('1.c The new table after adjucting the repayment amount wrt the credit card limit is ')\n",
    "\n",
    "Credit_card.head()"
   ]
  },
  {
   "cell_type": "code",
   "execution_count": 22,
   "metadata": {},
   "outputs": [
    {
     "name": "stdout",
     "output_type": "stream",
     "text": [
      "2.a The total number of distict customers are 100\n"
     ]
    }
   ],
   "source": [
    "Num=Credit_card.Customer.nunique()\n",
    "\n",
    "print('2.a The total number of distict customers are',Num)"
   ]
  },
  {
   "cell_type": "code",
   "execution_count": 23,
   "metadata": {},
   "outputs": [
    {
     "name": "stdout",
     "output_type": "stream",
     "text": [
      "2.b The total number of distict categories are 15\n"
     ]
    }
   ],
   "source": [
    "Catg=Credit_card.Type.nunique()\n",
    "\n",
    "print('2.b The total number of distict categories are',Catg)"
   ]
  },
  {
   "cell_type": "code",
   "execution_count": 24,
   "metadata": {},
   "outputs": [
    {
     "name": "stdout",
     "output_type": "stream",
     "text": [
      "2.c The average monthly spend by customers is  \n",
      "\n",
      " Month\n",
      "2004-01-31    152679.032306\n",
      "2004-02-29    124098.224615\n",
      "2004-03-31    214381.002000\n",
      "2004-04-30     84580.377500\n",
      "2004-05-31     76680.121250\n",
      "2004-09-30    253033.595000\n",
      "2004-11-30    114546.332000\n",
      "2005-01-31    225252.435000\n",
      "2005-02-28    177300.949643\n",
      "2005-04-30     85217.405455\n",
      "2005-05-31    167056.485200\n",
      "2005-06-30    154409.785000\n",
      "2005-07-31     57882.300000\n",
      "2005-08-31    125360.822222\n",
      "2005-09-30    132683.844000\n",
      "2005-10-31    114172.092000\n",
      "2005-11-30    179810.517692\n",
      "2005-12-31    178414.630000\n",
      "2006-01-31    254002.206000\n",
      "2006-02-28    144429.850000\n",
      "2006-03-31    150854.715490\n",
      "2006-04-30    120899.863793\n",
      "2006-05-31    102126.635909\n",
      "2006-06-30    141153.406667\n",
      "2006-07-31    186764.023750\n",
      "2006-08-31    229720.620000\n",
      "2006-09-30    183302.980000\n",
      "2006-10-31    247410.367500\n",
      "2006-11-30    206207.333750\n",
      "2006-12-31    239256.802500\n",
      "Name: Spend_Amount, dtype: float64\n"
     ]
    }
   ],
   "source": [
    "Credit_card['Month']=pd.to_datetime(Credit_card.Month,format=('%d-%b-%y'))\n",
    "\n",
    "New_table=Credit_card\n",
    "New_table.set_index('Month',inplace=True)\n",
    "\n",
    "New_table2=New_table.resample('M').mean()\n",
    "New_table2.dropna(inplace=True)\n",
    "\n",
    "print(\"2.c The average monthly spend by customers is \",'\\n\\n', New_table2['Spend_Amount'])"
   ]
  },
  {
   "cell_type": "code",
   "execution_count": 25,
   "metadata": {},
   "outputs": [
    {
     "name": "stdout",
     "output_type": "stream",
     "text": [
      "2.d The average monthly repayment by customers is  \n",
      "\n",
      " Month\n",
      "2004-01-31    168011.968222\n",
      "2004-02-29    104611.463077\n",
      "2004-03-31    231033.168000\n",
      "2004-04-30     98593.678750\n",
      "2004-05-31    162203.560000\n",
      "2004-09-30    208867.745000\n",
      "2004-11-30    152581.340000\n",
      "2005-01-31    171000.652143\n",
      "2005-02-28    196570.010268\n",
      "2005-04-30    122542.270000\n",
      "2005-05-31    218382.564200\n",
      "2005-06-30    134254.051111\n",
      "2005-07-31    112001.640000\n",
      "2005-08-31    126606.633333\n",
      "2005-09-30     80788.362000\n",
      "2005-10-31    205037.904000\n",
      "2005-11-30    237357.707692\n",
      "2005-12-31    255658.184000\n",
      "2006-01-31    302988.674000\n",
      "2006-02-28    168754.142105\n",
      "2006-03-31    156587.265588\n",
      "2006-04-30    165941.162414\n",
      "2006-05-31    177182.129091\n",
      "2006-06-30    216022.196667\n",
      "2006-07-31    234470.061250\n",
      "2006-08-31    230670.545000\n",
      "2006-09-30    319092.290000\n",
      "2006-10-31    260131.567500\n",
      "2006-11-30    299298.461250\n",
      "2006-12-31    215885.382500\n",
      "Name: Repayment_Amount, dtype: float64\n"
     ]
    }
   ],
   "source": [
    "print(\"2.d The average monthly repayment by customers is \",'\\n\\n', New_table2['Repayment_Amount'])"
   ]
  },
  {
   "cell_type": "code",
   "execution_count": 26,
   "metadata": {},
   "outputs": [
    {
     "name": "stdout",
     "output_type": "stream",
     "text": [
      "2.e The profit for each month for the bank is \n",
      "\n",
      " Month\n",
      "2004-01-31     444.655142\n",
      "2004-03-31     482.912814\n",
      "2004-04-30     406.385736\n",
      "2004-05-31    2480.179724\n",
      "2004-11-30    1103.015232\n",
      "2005-02-28     558.802758\n",
      "2005-04-30    1082.421072\n",
      "2005-05-31    1488.456291\n",
      "2005-07-31    1569.460860\n",
      "2005-08-31      36.128522\n",
      "2005-10-31    2635.108548\n",
      "2005-11-30    1668.868510\n",
      "2005-12-31    2240.063066\n",
      "2006-01-31    1420.607572\n",
      "2006-02-28     705.404471\n",
      "2006-03-31     166.243953\n",
      "2006-04-30    1306.197660\n",
      "2006-05-31    2176.609302\n",
      "2006-06-30    2171.194910\n",
      "2006-07-31    1383.475087\n",
      "2006-08-31      27.547825\n",
      "2006-09-30    3937.889990\n",
      "2006-10-31     368.914800\n",
      "2006-11-30    2699.642697\n",
      "Name: Profit, dtype: float64\n"
     ]
    }
   ],
   "source": [
    "New_table2['Profit']=New_table2.Repayment_Amount-New_table2.Spend_Amount\n",
    "\n",
    "Null_value=float('NaN')\n",
    "\n",
    "def fn_elmtr(x):\n",
    "    for a in New_table2.Profit:\n",
    "        if x<0:\n",
    "            return(Null_value)\n",
    "        else:\n",
    "            return(x)\n",
    "        \n",
    "New_table2['Profit']=New_table2['Profit'].apply(lambda x: fn_elmtr(x))\n",
    "New_table2.dropna(inplace=True)\n",
    "New_table2['Profit']=New_table2['Profit']*(2.9/100)\n",
    "\n",
    "print(\"2.e The profit for each month for the bank is \\n\\n\",New_table2.Profit)"
   ]
  },
  {
   "cell_type": "code",
   "execution_count": 27,
   "metadata": {},
   "outputs": [
    {
     "name": "stdout",
     "output_type": "stream",
     "text": [
      "2.f The top 5 product type wrt spend amount is\n"
     ]
    },
    {
     "data": {
      "text/html": [
       "<div>\n",
       "<style scoped>\n",
       "    .dataframe tbody tr th:only-of-type {\n",
       "        vertical-align: middle;\n",
       "    }\n",
       "\n",
       "    .dataframe tbody tr th {\n",
       "        vertical-align: top;\n",
       "    }\n",
       "\n",
       "    .dataframe thead th {\n",
       "        text-align: right;\n",
       "    }\n",
       "</style>\n",
       "<table border=\"1\" class=\"dataframe\">\n",
       "  <thead>\n",
       "    <tr style=\"text-align: right;\">\n",
       "      <th></th>\n",
       "      <th>Type</th>\n",
       "      <th>Spend_Amount</th>\n",
       "    </tr>\n",
       "  </thead>\n",
       "  <tbody>\n",
       "    <tr>\n",
       "      <th>4</th>\n",
       "      <td>CAMERA</td>\n",
       "      <td>19943003.00</td>\n",
       "    </tr>\n",
       "    <tr>\n",
       "      <th>10</th>\n",
       "      <td>PETRO</td>\n",
       "      <td>13667106.67</td>\n",
       "    </tr>\n",
       "    <tr>\n",
       "      <th>7</th>\n",
       "      <td>FOOD</td>\n",
       "      <td>12888728.98</td>\n",
       "    </tr>\n",
       "    <tr>\n",
       "      <th>3</th>\n",
       "      <td>BUS TICKET</td>\n",
       "      <td>11449175.92</td>\n",
       "    </tr>\n",
       "    <tr>\n",
       "      <th>9</th>\n",
       "      <td>MOVIE TICKET</td>\n",
       "      <td>10123108.77</td>\n",
       "    </tr>\n",
       "  </tbody>\n",
       "</table>\n",
       "</div>"
      ],
      "text/plain": [
       "            Type  Spend_Amount\n",
       "4         CAMERA   19943003.00\n",
       "10         PETRO   13667106.67\n",
       "7           FOOD   12888728.98\n",
       "3     BUS TICKET   11449175.92\n",
       "9   MOVIE TICKET   10123108.77"
      ]
     },
     "execution_count": 27,
     "metadata": {},
     "output_type": "execute_result"
    }
   ],
   "source": [
    "a=Credit_card.groupby('Type')['Spend_Amount'].sum().reset_index()\n",
    "a.sort_values(by='Spend_Amount',ascending=False,inplace=True)\n",
    "\n",
    "print(\"2.f The top 5 product type wrt spend amount is\")\n",
    "\n",
    "a.head()"
   ]
  },
  {
   "cell_type": "code",
   "execution_count": 28,
   "metadata": {},
   "outputs": [
    {
     "name": "stdout",
     "output_type": "stream",
     "text": [
      "2.g The city with max spends is COCHIN and the amount is Rs 27653817.49\n"
     ]
    }
   ],
   "source": [
    "b=Credit_card.groupby('City')['Spend_Amount'].sum().reset_index()\n",
    "b.sort_values('Spend_Amount',ascending=False,inplace=True)\n",
    "\n",
    "print('2.g The city with max spends is',b['City'].iloc[0],'and the amount is Rs',round(b['Spend_Amount'].iloc[0],2))"
   ]
  },
  {
   "cell_type": "code",
   "execution_count": 29,
   "metadata": {},
   "outputs": [],
   "source": [
    "Credit_card=Credit_card.reset_index()"
   ]
  },
  {
   "cell_type": "code",
   "execution_count": 30,
   "metadata": {},
   "outputs": [
    {
     "name": "stdout",
     "output_type": "stream",
     "text": [
      "2.h The group with max spend is 45-54 years and the spend amount is Rs. 37244492.76\n"
     ]
    }
   ],
   "source": [
    "labels=['19-24','25-34','35-44','45-54','55-64','65+']\n",
    "Credit_card['Age_Group']=pd.cut(Credit_card.Age,bins=[19,25,35,45,55,65,79],labels=labels)\n",
    "\n",
    "Age=Credit_card.groupby('Age_Group')[['Spend_Amount']].sum().reset_index()\n",
    "Max=Age.Spend_Amount.max()\n",
    "\n",
    "for i in range(0,6):\n",
    "    if(Age.Spend_Amount.iloc[i]==Max):\n",
    "        Group=Age.Age_Group.iloc[i]\n",
    "        \n",
    "print('2.h The group with max spend is',Group,'years and the spend amount is Rs.',round(Max,2))"
   ]
  },
  {
   "cell_type": "code",
   "execution_count": 31,
   "metadata": {},
   "outputs": [
    {
     "name": "stdout",
     "output_type": "stream",
     "text": [
      "2.i The top 10 customers in terms of repayment are \n",
      "\n",
      "    Customer  Repayment_Amount\n",
      "57      A60       10428573.54\n",
      "58      A61        8617285.78\n",
      "39      A44        8227149.65\n",
      "38      A43        7963202.15\n",
      "40      A45        7075094.55\n",
      "5       A13        6479204.24\n",
      "32      A38        6404899.90\n",
      "37      A42        6181774.14\n",
      "36      A41        5667620.30\n",
      "33      A39        5534957.87\n"
     ]
    }
   ],
   "source": [
    "Top=Credit_card.groupby('Customer')[['Repayment_Amount']].sum().reset_index()\n",
    "\n",
    "\n",
    "print('2.i The top 10 customers in terms of repayment are \\n\\n',Top.nlargest(10,['Repayment_Amount']))"
   ]
  },
  {
   "cell_type": "code",
   "execution_count": 32,
   "metadata": {},
   "outputs": [],
   "source": [
    "Year_Table=Credit_card.set_index('Month')"
   ]
  },
  {
   "cell_type": "code",
   "execution_count": 33,
   "metadata": {},
   "outputs": [
    {
     "data": {
      "text/html": [
       "<div>\n",
       "<style scoped>\n",
       "    .dataframe tbody tr th:only-of-type {\n",
       "        vertical-align: middle;\n",
       "    }\n",
       "\n",
       "    .dataframe tbody tr th {\n",
       "        vertical-align: top;\n",
       "    }\n",
       "\n",
       "    .dataframe thead th {\n",
       "        text-align: right;\n",
       "    }\n",
       "</style>\n",
       "<table border=\"1\" class=\"dataframe\">\n",
       "  <thead>\n",
       "    <tr style=\"text-align: right;\">\n",
       "      <th></th>\n",
       "      <th>Month</th>\n",
       "      <th>City</th>\n",
       "      <th>Product</th>\n",
       "      <th>Spend_Amount</th>\n",
       "    </tr>\n",
       "  </thead>\n",
       "  <tbody>\n",
       "    <tr>\n",
       "      <th>0</th>\n",
       "      <td>2004</td>\n",
       "      <td>BANGALORE</td>\n",
       "      <td>Gold</td>\n",
       "      <td>9953342.66</td>\n",
       "    </tr>\n",
       "    <tr>\n",
       "      <th>1</th>\n",
       "      <td>2004</td>\n",
       "      <td>BANGALORE</td>\n",
       "      <td>Platimum</td>\n",
       "      <td>700899.56</td>\n",
       "    </tr>\n",
       "    <tr>\n",
       "      <th>2</th>\n",
       "      <td>2004</td>\n",
       "      <td>BANGALORE</td>\n",
       "      <td>Silver</td>\n",
       "      <td>1089383.07</td>\n",
       "    </tr>\n",
       "    <tr>\n",
       "      <th>3</th>\n",
       "      <td>2004</td>\n",
       "      <td>BOMBAY</td>\n",
       "      <td>Gold</td>\n",
       "      <td>8829107.79</td>\n",
       "    </tr>\n",
       "    <tr>\n",
       "      <th>4</th>\n",
       "      <td>2004</td>\n",
       "      <td>BOMBAY</td>\n",
       "      <td>Platimum</td>\n",
       "      <td>815564.17</td>\n",
       "    </tr>\n",
       "  </tbody>\n",
       "</table>\n",
       "</div>"
      ],
      "text/plain": [
       "   Month       City   Product  Spend_Amount\n",
       "0   2004  BANGALORE      Gold    9953342.66\n",
       "1   2004  BANGALORE  Platimum     700899.56\n",
       "2   2004  BANGALORE    Silver    1089383.07\n",
       "3   2004     BOMBAY      Gold    8829107.79\n",
       "4   2004     BOMBAY  Platimum     815564.17"
      ]
     },
     "execution_count": 33,
     "metadata": {},
     "output_type": "execute_result"
    }
   ],
   "source": [
    "df=Year_Table.groupby([Year_Table.index.year,'City','Product'])[['Spend_Amount']].sum().reset_index()\n",
    "df.head()"
   ]
  },
  {
   "cell_type": "code",
   "execution_count": 34,
   "metadata": {},
   "outputs": [
    {
     "name": "stdout",
     "output_type": "stream",
     "text": [
      "3. The city wise spend on each product on yearly basis\n"
     ]
    },
    {
     "data": {
      "text/plain": [
       "<seaborn.axisgrid.FacetGrid at 0x292660fae48>"
      ]
     },
     "execution_count": 34,
     "metadata": {},
     "output_type": "execute_result"
    },
    {
     "data": {
      "image/png": "[encoded data removed]",
      "text/plain": [
       "<Figure size 751.625x216 with 3 Axes>"
      ]
     },
     "metadata": {
      "needs_background": "light"
     },
     "output_type": "display_data"
    }
   ],
   "source": [
    "print('3. The city wise spend on each product on yearly basis')\n",
    "\n",
    "g=sns.FacetGrid(df, col=\"Month\", hue=\"City\")\n",
    "g.map(plt.scatter, \"Product\", \"Spend_Amount\")\n",
    "g.add_legend();\n",
    "g.set_xticklabels(rotation=90)"
   ]
  },
  {
   "cell_type": "code",
   "execution_count": 35,
   "metadata": {},
   "outputs": [
    {
     "data": {
      "text/html": [
       "<div>\n",
       "<style scoped>\n",
       "    .dataframe tbody tr th:only-of-type {\n",
       "        vertical-align: middle;\n",
       "    }\n",
       "\n",
       "    .dataframe tbody tr th {\n",
       "        vertical-align: top;\n",
       "    }\n",
       "\n",
       "    .dataframe thead th {\n",
       "        text-align: right;\n",
       "    }\n",
       "</style>\n",
       "<table border=\"1\" class=\"dataframe\">\n",
       "  <thead>\n",
       "    <tr style=\"text-align: right;\">\n",
       "      <th></th>\n",
       "      <th>Month</th>\n",
       "      <th>City</th>\n",
       "      <th>Spend_Amount</th>\n",
       "    </tr>\n",
       "  </thead>\n",
       "  <tbody>\n",
       "    <tr>\n",
       "      <th>0</th>\n",
       "      <td>1</td>\n",
       "      <td>BANGALORE</td>\n",
       "      <td>11290794.39</td>\n",
       "    </tr>\n",
       "    <tr>\n",
       "      <th>1</th>\n",
       "      <td>1</td>\n",
       "      <td>BOMBAY</td>\n",
       "      <td>7975013.00</td>\n",
       "    </tr>\n",
       "    <tr>\n",
       "      <th>2</th>\n",
       "      <td>1</td>\n",
       "      <td>CALCUTTA</td>\n",
       "      <td>10818287.40</td>\n",
       "    </tr>\n",
       "    <tr>\n",
       "      <th>3</th>\n",
       "      <td>1</td>\n",
       "      <td>CHENNAI</td>\n",
       "      <td>4512252.68</td>\n",
       "    </tr>\n",
       "    <tr>\n",
       "      <th>4</th>\n",
       "      <td>1</td>\n",
       "      <td>COCHIN</td>\n",
       "      <td>12572671.27</td>\n",
       "    </tr>\n",
       "  </tbody>\n",
       "</table>\n",
       "</div>"
      ],
      "text/plain": [
       "   Month       City  Spend_Amount\n",
       "0      1  BANGALORE   11290794.39\n",
       "1      1     BOMBAY    7975013.00\n",
       "2      1   CALCUTTA   10818287.40\n",
       "3      1    CHENNAI    4512252.68\n",
       "4      1     COCHIN   12572671.27"
      ]
     },
     "execution_count": 35,
     "metadata": {},
     "output_type": "execute_result"
    }
   ],
   "source": [
    "df2=Year_Table.groupby([Year_Table.index.month,'City'])[['Spend_Amount']].sum().reset_index()\n",
    "df2.head()"
   ]
  },
  {
   "cell_type": "code",
   "execution_count": 36,
   "metadata": {},
   "outputs": [
    {
     "name": "stdout",
     "output_type": "stream",
     "text": [
      "4.a Monthly comparison of total spends, city wise\n"
     ]
    },
    {
     "data": {
      "text/plain": [
       "([0, 1, 2, 3, 4, 5, 6, 7], <a list of 8 Text xticklabel objects>)"
      ]
     },
     "execution_count": 36,
     "metadata": {},
     "output_type": "execute_result"
    },
    {
     "data": {
      "image/png": "[encoded data removed]",
      "text/plain": [
       "<Figure size 432x288 with 1 Axes>"
      ]
     },
     "metadata": {
      "needs_background": "light"
     },
     "output_type": "display_data"
    }
   ],
   "source": [
    "print('4.a Monthly comparison of total spends, city wise')\n",
    "\n",
    "sns.scatterplot(x='City',y='Spend_Amount',hue='Month',data=df2)\n",
    "g.add_legend();\n",
    "plt.xticks(rotation=45)"
   ]
  },
  {
   "cell_type": "code",
   "execution_count": 37,
   "metadata": {},
   "outputs": [
    {
     "name": "stdout",
     "output_type": "stream",
     "text": [
      "4.b Comparison of yearly spend on air ticket\n"
     ]
    },
    {
     "data": {
      "text/plain": [
       "<matplotlib.axes._subplots.AxesSubplot at 0x292663a4b00>"
      ]
     },
     "execution_count": 37,
     "metadata": {},
     "output_type": "execute_result"
    },
    {
     "data": {
      "image/png": "[encoded data removed]",
      "text/plain": [
       "<Figure size 432x288 with 1 Axes>"
      ]
     },
     "metadata": {
      "needs_background": "light"
     },
     "output_type": "display_data"
    }
   ],
   "source": [
    "Year_Table2=Year_Table[Year_Table.Type=='AIR TICKET']\n",
    "\n",
    "print('4.b Comparison of yearly spend on air ticket')\n",
    "\n",
    "Year_Table2.groupby(Year_Table2.index.year)[['Spend_Amount']].sum().plot(kind='bar')"
   ]
  },
  {
   "cell_type": "code",
   "execution_count": 38,
   "metadata": {},
   "outputs": [
    {
     "data": {
      "text/html": [
       "<div>\n",
       "<style scoped>\n",
       "    .dataframe tbody tr th:only-of-type {\n",
       "        vertical-align: middle;\n",
       "    }\n",
       "\n",
       "    .dataframe tbody tr th {\n",
       "        vertical-align: top;\n",
       "    }\n",
       "\n",
       "    .dataframe thead th {\n",
       "        text-align: right;\n",
       "    }\n",
       "</style>\n",
       "<table border=\"1\" class=\"dataframe\">\n",
       "  <thead>\n",
       "    <tr style=\"text-align: right;\">\n",
       "      <th></th>\n",
       "      <th>Month</th>\n",
       "      <th>Product</th>\n",
       "      <th>Spend_Amount</th>\n",
       "    </tr>\n",
       "  </thead>\n",
       "  <tbody>\n",
       "    <tr>\n",
       "      <th>0</th>\n",
       "      <td>1</td>\n",
       "      <td>Gold</td>\n",
       "      <td>40694326.60</td>\n",
       "    </tr>\n",
       "    <tr>\n",
       "      <th>1</th>\n",
       "      <td>1</td>\n",
       "      <td>Platimum</td>\n",
       "      <td>14491018.70</td>\n",
       "    </tr>\n",
       "    <tr>\n",
       "      <th>2</th>\n",
       "      <td>1</td>\n",
       "      <td>Silver</td>\n",
       "      <td>4202651.45</td>\n",
       "    </tr>\n",
       "    <tr>\n",
       "      <th>3</th>\n",
       "      <td>2</td>\n",
       "      <td>Gold</td>\n",
       "      <td>15526858.59</td>\n",
       "    </tr>\n",
       "    <tr>\n",
       "      <th>4</th>\n",
       "      <td>2</td>\n",
       "      <td>Platimum</td>\n",
       "      <td>7850078.64</td>\n",
       "    </tr>\n",
       "  </tbody>\n",
       "</table>\n",
       "</div>"
      ],
      "text/plain": [
       "   Month   Product  Spend_Amount\n",
       "0      1      Gold   40694326.60\n",
       "1      1  Platimum   14491018.70\n",
       "2      1    Silver    4202651.45\n",
       "3      2      Gold   15526858.59\n",
       "4      2  Platimum    7850078.64"
      ]
     },
     "execution_count": 38,
     "metadata": {},
     "output_type": "execute_result"
    }
   ],
   "source": [
    "df3=Year_Table.groupby([Year_Table.index.month,'Product'])[['Spend_Amount']].sum().reset_index()\n",
    "df3.head()"
   ]
  },
  {
   "cell_type": "code",
   "execution_count": 39,
   "metadata": {},
   "outputs": [
    {
     "name": "stdout",
     "output_type": "stream",
     "text": [
      "4.c Monthly comparison of total spends, city wise\n"
     ]
    },
    {
     "data": {
      "text/plain": [
       "(array([ 0.,  2.,  4.,  6.,  8., 10., 12., 14.]),\n",
       " <a list of 8 Text xticklabel objects>)"
      ]
     },
     "execution_count": 39,
     "metadata": {},
     "output_type": "execute_result"
    },
    {
     "data": {
      "image/png": "[encoded data removed]",
      "text/plain": [
       "<Figure size 432x288 with 1 Axes>"
      ]
     },
     "metadata": {
      "needs_background": "light"
     },
     "output_type": "display_data"
    }
   ],
   "source": [
    "print('4.c Monthly comparison of total spends, city wise')\n",
    "\n",
    "sns.scatterplot(x='Month',y='Spend_Amount',hue='Product',data=df3)\n",
    "plt.xticks(rotation=45)"
   ]
  },
  {
   "cell_type": "code",
   "execution_count": 41,
   "metadata": {},
   "outputs": [
    {
     "name": "stdout",
     "output_type": "stream",
     "text": [
      "Enter the product type you wanna see the information for Gold,Silver or Platimum : Gold\n",
      "Enter how you want to see the output Year or Month : Month\n",
      "Enter the month number for which you want to see the information: 3\n",
      "For city BANGALORE the top 10 customers are \n",
      "\n",
      "     Month Product       City Customer  Repayment_Amount\n",
      "116      3    Gold  BANGALORE      A43        1540229.91\n",
      "115      3    Gold  BANGALORE      A14         782768.78\n",
      "114      3    Gold  BANGALORE      A13         575551.13\n",
      "117      3    Gold  BANGALORE      A81         207780.32\n",
      "118      3    Gold  BANGALORE      A88         146821.30\n",
      "\n",
      "\n",
      "\n",
      "For city BOMBAY the top 10 customers are \n",
      "\n",
      "     Month Product    City Customer  Repayment_Amount\n",
      "120      3    Gold  BOMBAY      A17         970413.51\n",
      "121      3    Gold  BOMBAY      A42         649926.09\n",
      "119      3    Gold  BOMBAY      A12         393141.72\n",
      "\n",
      "\n",
      "\n",
      "For city CALCUTTA the top 10 customers are \n",
      "\n",
      "     Month Product      City Customer  Repayment_Amount\n",
      "123      3    Gold  CALCUTTA      A15        1000790.29\n",
      "124      3    Gold  CALCUTTA      A60          28857.20\n",
      "122      3    Gold  CALCUTTA      A10          11900.61\n",
      "\n",
      "\n",
      "\n",
      "For city CHENNAI the top 10 customers are \n",
      "\n",
      "     Month Product     City Customer  Repayment_Amount\n",
      "125      3    Gold  CHENNAI      A27         148498.19\n",
      "\n",
      "\n",
      "\n",
      "For city COCHIN the top 10 customers are \n",
      "\n",
      "     Month Product    City Customer  Repayment_Amount\n",
      "127      3    Gold  COCHIN      A16        1256225.03\n",
      "128      3    Gold  COCHIN      A45         651110.99\n",
      "126      3    Gold  COCHIN      A11         149947.54\n",
      "\n",
      "\n",
      "\n",
      "For city DELHI the top 10 customers are \n",
      "\n",
      "     Month Product   City Customer  Repayment_Amount\n",
      "129      3    Gold  DELHI      A44        1517407.82\n",
      "130      3    Gold  DELHI      A82         342200.74\n",
      "\n",
      "\n",
      "\n",
      "For city PATNA the top 10 customers are \n",
      "\n",
      "     Month Product   City Customer  Repayment_Amount\n",
      "131      3    Gold  PATNA      A26           80907.9\n",
      "\n",
      "\n",
      "\n",
      "For city TRIVANDRUM the top 10 customers are \n",
      "\n",
      "Empty DataFrame\n",
      "Columns: [Month, Product, City, Customer, Repayment_Amount]\n",
      "Index: []\n",
      "\n",
      "\n",
      "\n"
     ]
    }
   ],
   "source": [
    "Year_1=Year_Table.groupby([Year_Table.index.year,'Product','City','Customer'])[['Repayment_Amount']].sum().reset_index()\n",
    "\n",
    "Year_2=Year_Table.groupby([Year_Table.index.month,'Product','City','Customer'])[['Repayment_Amount']].sum().reset_index()\n",
    "\n",
    "\n",
    "Product_input=input('Enter the product type you wanna see the information for Gold,Silver or Platimum : ')\n",
    "\n",
    "Time_input=input(\"Enter how you want to see the output Year or Month : \")\n",
    "\n",
    "if(Time_input=='Year'):\n",
    "    Year_Number=input(\"Enter the year for which you want to see the information i.e. 2004,2005 or 2006 : \")\n",
    "elif(Time_input=='Month'):\n",
    "    Month_Number=input(\"Enter the month number for which you want to see the information: \")\n",
    "    \n",
    "array=Year_2.City.unique()\n",
    "\n",
    "if(Time_input=='Year'):\n",
    "    for x in range(0,8):\n",
    "        print('For city',array[x],'the top 10 customers are \\n')\n",
    "        print(Year_1[(Year_1.Month==int(Year_Number))&(Year_1.Product==Product_input)&(Year_1.City==array[x])].nlargest(10,'Repayment_Amount'))\n",
    "        print('\\n\\n')\n",
    "elif(Time_input=='Month'):\n",
    "    for x in range(0,8):\n",
    "        print('For city',array[x],'the top 10 customers are \\n')\n",
    "        print(Year_2[(Year_2.Month==int(Month_Number))&(Year_2.Product==Product_input)&(Year_2.City==array[x])].nlargest(10,'Repayment_Amount'))\n",
    "        print('\\n\\n')"
   ]
  },
  {
   "cell_type": "code",
   "execution_count": null,
   "metadata": {},
   "outputs": [],
   "source": []
  },
  {
   "cell_type": "code",
   "execution_count": null,
   "metadata": {},
   "outputs": [],
   "source": []
  }
 ],
 "metadata": {
  "kernelspec": {
   "display_name": "Python 3",
   "language": "python",
   "name": "python3"
  },
  "language_info": {
   "codemirror_mode": {
    "name": "ipython",
    "version": 3
   },
   "file_extension": ".py",
   "mimetype": "text/x-python",
   "name": "python",
   "nbconvert_exporter": "python",
   "pygments_lexer": "ipython3",
   "version": "3.7.3"
  }
 },
 "nbformat": 4,
 "nbformat_minor": 2
}
